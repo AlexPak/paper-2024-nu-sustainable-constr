{
 "cells": [
  {
   "cell_type": "markdown",
   "id": "23fffdc9",
   "metadata": {
    "tags": []
   },
   "source": [
    "### Import Section"
   ]
  },
  {
   "cell_type": "code",
   "execution_count": 5,
   "id": "c672b9ce",
   "metadata": {},
   "outputs": [],
   "source": [
    "import sys\n",
    "import io\n",
    "import os\n",
    "import urllib.parse, urllib.request, json\n",
    "import pandas as pd\n",
    "import numpy as np\n",
    "from typing import Iterable, Tuple, List, Set, Dict, Callable, Any, Optional\n",
    "from pprint import PrettyPrinter\n",
    "from collections import Counter,defaultdict\n",
    "from tqdm import tqdm\n",
    "pprint = PrettyPrinter(indent=4)\n",
    "print = pprint.pprint"
   ]
  },
  {
   "cell_type": "markdown",
   "id": "d57b633f",
   "metadata": {},
   "source": [
    "### Constant Section\n",
    "Important!!! Change the DATA_PATH according to your configuration"
   ]
  },
  {
   "cell_type": "code",
   "execution_count": 10,
   "id": "4d9b333c",
   "metadata": {},
   "outputs": [],
   "source": [
    "DATA_PATH = os.path.join(\"c:\\\\\",\"Users\",\"alexp\",\"Jupyter\",\"NU\",\"github\",\"data\",\"CE_SC_papers.csv\")\n",
    "GROUPS_PATH = os.path.join(\"c:\\\\\",\"Users\",\"alexp\",\"Jupyter\",\"NU\",\"github\",\"data\",\"groups.txt\")\n",
    "USERNAME = \"Kazakh British Technical University\"\n",
    "KEY = \"ewpnmenfvbcliylsfkmvrbhbpblkmn\""
   ]
  },
  {
   "cell_type": "markdown",
   "id": "c7e0d277",
   "metadata": {},
   "source": [
    "### Reference Section"
   ]
  },
  {
   "cell_type": "code",
   "execution_count": 11,
   "id": "701e8209-8985-4267-8cbd-53d8d1768867",
   "metadata": {
    "tags": []
   },
   "outputs": [],
   "source": [
    "GROUPS = {\n",
    "    \"Core\":({'unknown','abstract object','action','activity','process','product','resource','scientific object','series','service','source',},{}),\n",
    "    \"Method\":({\"method\",\"technique\",\"approach\",\"design\"},{}),\n",
    "}\n",
    "\n",
    "STOP_WORDS = {\n",
    "    \"Open access\",\n",
    "    \"Copyright\",\n",
    "    \"Scientific method\",\n",
    "    \"Research\",\n",
    "    \"Systematic review\",\n",
    "    \"Information\",\"Database\",\n",
    "    \"Infrastructure\",\n",
    "    \"Innovation\",\n",
    "    \"Systematic review\",\n",
    "    \"System\",\n",
    "    \"Computer\",\n",
    "    \"Density\",\n",
    "    \"Machine\",\n",
    "    \"API\",\n",
    "    \"World Wide Web\",\n",
    "    \"Thermal comfort\",\n",
    "    \"Techno\",\n",
    "    \"Taxonomy\",\n",
    "\n",
    "}\n",
    "\n",
    "STOP_WORDS = {}\n",
    "\n",
    "PROBLEM_WORDS = [\n",
    "    \"Steel\",\n",
    "    \"Slag\",\n",
    "    \"Rice\",\n",
    "    \"Water\",\n",
    "    \"Limestone\",\n",
    "    \"Mineral\",\n",
    "    \"Greenhouse gas\",\n",
    "    \"Geopolymer\",\n",
    "    \"Fossil fuel\",\n",
    "    \"Fly ash\",\n",
    "    \"Concrete\",\"Composite material\",\n",
    "    \"Alkali\",\n",
    "    \"Wood\"]\n",
    "\n",
    "SYN_SETS = {\n",
    "    \"Sustainability\":\"Sustainability\",\n",
    "    \"Sustainable development\":\"Sustainability\",\n",
    "    \"Sustainable Development Goals\":\"Sustainability\",\n",
    "    \"Sustainable architecture\":\"Sustainability\",\n",
    "}\n",
    "\n"
   ]
  },
  {
   "cell_type": "code",
   "execution_count": 8,
   "id": "41d9f57c-ebe7-4e6f-95d2-1966911fcdd1",
   "metadata": {},
   "outputs": [],
   "source": [
    "#### Vocabulary of concepts\n",
    "voc_conc = Counter()\n",
    "#### Vocabulary of clazzes\n",
    "voc_claz = Counter()\n",
    "#### Generalizations of concepts to clazzes (is-a)\n",
    "is_a = defaultdict(set)"
   ]
  },
  {
   "cell_type": "code",
   "execution_count": 12,
   "id": "49f5b2a4-c562-483d-b72d-f7befab7b37b",
   "metadata": {},
   "outputs": [],
   "source": [
    "with open(GROUPS_PATH,\"r\") as fh:\n",
    "    ref_is_a = json.loads(fh.read())\n",
    "\n",
    "GROUPS = dict()    \n",
    "for k,v in ref_is_a.items():\n",
    "    is_a[k].add(v)\n",
    "    voc_conc[k]+=1\n",
    "    voc_claz[v]+=1\n",
    "    GROUPS[v] = ({v},{})\n",
    "    \n",
    "STOP_WORDS = {\n",
    "    \"Creative Commons\",\n",
    "    \"Copyright\"\n",
    "}"
   ]
  },
  {
   "cell_type": "code",
   "execution_count": 13,
   "id": "49b24845-4e89-43ba-afc4-fc6f155da113",
   "metadata": {},
   "outputs": [
    {
     "name": "stdout",
     "output_type": "stream",
     "text": [
      "[   ('Sustainable development', 1),\n",
      "    ('Sustainable Development Goals', 1),\n",
      "    ('Sustainability', 1),\n",
      "    ('Circular economy', 1),\n",
      "    ('Scientific method', 1),\n",
      "    ('Science', 1),\n",
      "    ('Research and development', 1),\n",
      "    ('Research', 1),\n",
      "    ('Open access', 1),\n",
      "    ('Literature', 1)]\n",
      "''\n",
      "[   ('General Technology', 14),\n",
      "    ('Environment', 12),\n",
      "    ('Materials', 10),\n",
      "    ('Science and Research', 9),\n",
      "    ('Built Environment', 9),\n",
      "    ('Waste Management', 5),\n",
      "    ('Sustainability', 3),\n",
      "    ('Economics', 3),\n",
      "    ('Circular economy', 1)]\n",
      "''\n",
      "{'General Technology'}\n",
      "''\n",
      "{   'Built Environment': ({'Built Environment'}, {}),\n",
      "    'Circular economy': ({'Circular economy'}, {}),\n",
      "    'Economics': ({'Economics'}, {}),\n",
      "    'Environment': ({'Environment'}, {}),\n",
      "    'General Technology': ({'General Technology'}, {}),\n",
      "    'Materials': ({'Materials'}, {}),\n",
      "    'Science and Research': ({'Science and Research'}, {}),\n",
      "    'Sustainability': ({'Sustainability'}, {}),\n",
      "    'Waste Management': ({'Waste Management'}, {})}\n"
     ]
    }
   ],
   "source": [
    "print(voc_conc.most_common()[:10])\n",
    "print(\"\")\n",
    "print(voc_claz.most_common()[:10])\n",
    "print(\"\")\n",
    "print(is_a[\"3D printing\"])\n",
    "print(\"\")\n",
    "print(GROUPS)"
   ]
  },
  {
   "cell_type": "code",
   "execution_count": 6,
   "id": "db9c7439-a3b7-4b3a-8b1e-50939d4fc514",
   "metadata": {},
   "outputs": [
    {
     "data": {
      "text/plain": [
       "{'Built Environment',\n",
       " 'Circular economy',\n",
       " 'Economics',\n",
       " 'Environment',\n",
       " 'General Technology',\n",
       " 'Materials',\n",
       " 'Science and Research',\n",
       " 'Sustainability',\n",
       " 'Waste Management'}"
      ]
     },
     "execution_count": 6,
     "metadata": {},
     "output_type": "execute_result"
    }
   ],
   "source": [
    "set([list(val)[0] for val in is_a.values()])"
   ]
  },
  {
   "cell_type": "code",
   "execution_count": 7,
   "id": "a94c123e-2bc9-4625-9013-4938c666798c",
   "metadata": {},
   "outputs": [],
   "source": [
    "def chunk_apply(self, source: str, target: str, func: Callable, parts: int, start: int = 0):\n",
    "    \"\"\"\n",
    "    Applies a function to chunks of a DataFrame column and stores the results in another column.\n",
    "\n",
    "    This method divides a DataFrame into specified parts and applies a function to a\n",
    "    column (`source`) in chunks, then stores the results in another column (`target`).\n",
    "    It uses a progress bar via tqdm to display progress.\n",
    "\n",
    "    Parameters:\n",
    "    - self: The DataFrame to operate on.\n",
    "    - source (str): The name of the column from which data is read.\n",
    "    - target (str): The name of the column where results of the function are stored.\n",
    "    - func (Callable): The function to apply to each element of the source column.\n",
    "    - parts (int): The number of parts to divide the DataFrame into for processing.\n",
    "    - start (int, optional): The starting index from which to begin processing. Default is 0.\n",
    "\n",
    "    Returns:\n",
    "    - None: The function modifies the DataFrame in place and does not return anything.\n",
    "    \"\"\"\n",
    "    from tqdm import tqdm\n",
    "    tqdm.pandas(desc=\"Chunk apply\")\n",
    "    chunk_size = int(len(self) / parts)\n",
    "    for chunk_start in range(start, len(self), chunk_size):\n",
    "        chunk_end = min(chunk_start + chunk_size, len(self))\n",
    "        self.loc[chunk_start:chunk_end, target] = self.loc[chunk_start:chunk_end, source].progress_apply(func)\n",
    "\n",
    "        \n",
    "pd.DataFrame.chunk_apply = chunk_apply\n",
    "#pd.DataFrame.chunk_apply(func = None,parts = 10,start = 0)"
   ]
  },
  {
   "cell_type": "code",
   "execution_count": 8,
   "id": "16c61dad-5df4-40f7-ac61-9ae56de38c09",
   "metadata": {},
   "outputs": [],
   "source": [
    "def call_wikifier(text: str, lang: str = \"en\", threshold: float = 0.8, retry: int = 0) -> Optional[List[Tuple[str, str]]]:\n",
    "    \"\"\"\n",
    "    Calls the Wikifier service to annotate text with relevant Wikipedia links.\n",
    "    \n",
    "    Args:\n",
    "    text (str): The text to be annotated.\n",
    "    lang (str, optional): The language of the text. Defaults to \"en\" (English).\n",
    "    threshold (float, optional): The page rank square threshold for selecting annotations. Defaults to 0.8.\n",
    "    retry (int, optional): The retry count for handling request failures. Automatically retries up to 5 times. Defaults to 0.\n",
    "    \n",
    "    Returns:\n",
    "    Optional[List[Tuple[str, str]]]: A list of tuples containing the title and URL of the Wikipedia page if successful, None otherwise.\n",
    "    \n",
    "    This function constructs a URL request to the Wikifier service, handling retries and errors. If the number of retries exceeds 5, it returns None. For each successful call, it returns a list of annotated Wikipedia links based on the specified threshold.\n",
    "    \"\"\"\n",
    "    # Prepare the URL.\n",
    "    if retry > 5:\n",
    "        return None\n",
    "    if retry > 0:\n",
    "        time.sleep(retry)\n",
    "    try:\n",
    "        data = urllib.parse.urlencode([\n",
    "            (\"text\", text), (\"lang\", lang),\n",
    "            (\"userKey\", \"Your_User_Key_Here\"),  # Replace with your actual user key.\n",
    "            (\"pageRankSqThreshold\", \"%g\" % threshold), (\"applyPageRankSqThreshold\", \"true\"),\n",
    "            (\"nTopDfValuesToIgnore\", \"200\"), (\"nWordsToIgnoreFromList\", \"200\"),\n",
    "            (\"wikiDataClasses\", \"true\"), (\"wikiDataClassIds\", \"false\"),\n",
    "            (\"support\", \"true\"), (\"ranges\", \"false\"), (\"minLinkFrequency\", \"2\"),\n",
    "            (\"includeCosines\", \"false\"), (\"maxMentionEntropy\", \"3\")\n",
    "        ])\n",
    "        url = \"http://www.wikifier.org/annotate-article\"\n",
    "        # Call the Wikifier and read the response.\n",
    "        req = urllib.request.Request(url, data=data.encode(\"utf8\"), method=\"POST\")\n",
    "        with urllib.request.urlopen(req, timeout=60) as f:\n",
    "            response = f.read()\n",
    "            response = json.loads(response.decode(\"utf8\"))\n",
    "        # Output the annotations.\n",
    "        return [(annotation[\"title\"], annotation[\"url\"]) for annotation in response[\"annotations\"]]\n",
    "    except Exception as error:\n",
    "        print(f\"Error on attempt {retry+1}: {error}\")\n",
    "        return call_wikifier(text, lang, threshold, retry + 1)\n",
    "\n",
    "def get_concept_info(title: str, lang: str = \"en\", secLang: str = \"ru\", retry: int = 0):\n",
    "    \"\"\"\n",
    "    Retrieves concept information from the Wikifier service.\n",
    "\n",
    "    This function queries the Wikifier \"concept-info\" API to get detailed information about a specified concept,\n",
    "    including its labels in different languages. It supports retrying the request in case of failures.\n",
    "\n",
    "    Parameters:\n",
    "    title (str): The title of the concept to query.\n",
    "    lang (str): The primary language for the query (default is English).\n",
    "    secLang (str): A secondary language for additional labels (default is Russian).\n",
    "    retry (int): The number of retry attempts made in case of a failure.\n",
    "\n",
    "    Returns:\n",
    "    list of str: A list of labels of the concept in the secondary language, or an empty list on failure.\n",
    "\n",
    "    Raises:\n",
    "    Exception: Propagates exceptions after exceeding retry limits with a descriptive error message.\n",
    "    \"\"\"\n",
    "    # Prepare the URL.\n",
    "    if retry > 5:\n",
    "        raise Exception(\"Maximum retry attempts exceeded.\")\n",
    "    if retry > 0:\n",
    "        time.sleep(retry)  # Backoff before retrying\n",
    "\n",
    "    try:\n",
    "        base_url = \"http://www.wikifier.org/concept-info\"\n",
    "        params = {\n",
    "            \"lang\": lang,\n",
    "            \"title\": title,\n",
    "            \"secLang\": secLang\n",
    "        }\n",
    "        url = base_url + \"?\" + urllib.parse.urlencode(params)\n",
    "\n",
    "        with urllib.request.urlopen(url) as response:\n",
    "            data = response.read().decode('utf-8')\n",
    "            concept_info = json.loads(data)\n",
    "            return [el[\"enLabel\"] for el in concept_info[\"wikiDataClasses\"]]\n",
    "    except Exception as e:\n",
    "        print(\"Error:\", e)\n",
    "        return get_concept_info(title, lang, secLang, retry + 1)\n"
   ]
  },
  {
   "cell_type": "code",
   "execution_count": 9,
   "id": "4d03e405-ed2d-4f0d-9ac2-a765293fe9b8",
   "metadata": {},
   "outputs": [],
   "source": [
    "def get_hyperonyms(term: str, lang: str = 'en') -> list:\n",
    "    \"\"\"\n",
    "    Retrieve hyperonyms (superordinate terms) for a given term using the ConceptNet API.\n",
    "\n",
    "    Args:\n",
    "    term (str): The term for which to find hyperonyms.\n",
    "    lang (str): The language of the term (default is 'en' for English).\n",
    "\n",
    "    Returns:\n",
    "    list: A list of hyperonyms for the specified term. Returns None if the API request fails.\n",
    "\n",
    "    Example:\n",
    "    >>> hyperonyms = get_hyperonyms('apple')\n",
    "    >>> print(\"Hyperonyms of 'apple':\", hyperonyms)\n",
    "    \"\"\"\n",
    "    \n",
    "    # Construct the URL and parameters for the ConceptNet API\n",
    "    base_url = \"http://api.conceptnet.io/query\"\n",
    "    params = {\n",
    "        'node': f'/c/{lang}/{term}',\n",
    "        'rel': '/r/IsA',\n",
    "        'limit': 10  # limit the results to 10; adjust as needed\n",
    "    }\n",
    "    \n",
    "    # Encode parameters and construct full URL\n",
    "    query_string = urllib.parse.urlencode(params)\n",
    "    url = f\"{base_url}?{query_string}\"\n",
    "    \n",
    "    try:\n",
    "        # Make the HTTP GET request to the ConceptNet API\n",
    "        with urllib.request.urlopen(url) as response:\n",
    "            # Decode the response and load it into JSON\n",
    "            response_text = response.read().decode('utf-8')\n",
    "            data = json.loads(response_text)\n",
    "            hyperonyms = []\n",
    "            \n",
    "            # Extract hyperonyms from the API response\n",
    "            for edge in data['edges']:\n",
    "                # Get the start or end node as a hyperonym depending on the direction\n",
    "                if edge['start']['@id'] == f'/c/{lang}/{term}':\n",
    "                    hyperonym = edge['end']['label']\n",
    "                else:\n",
    "                    hyperonym = edge['start']['label']\n",
    "                hyperonyms.append(hyperonym)\n",
    "            \n",
    "            return hyperonyms\n",
    "    except urllib.error.URLError as e:\n",
    "        print(\"Failed to fetch data:\", e)\n",
    "        return None\n",
    "\n",
    "\n",
    "# Example usage\n",
    "#term = \"matrix\"\n",
    "#hyperonyms = get_hyperonyms(term)\n",
    "#print((\"Hyperonyms of\", term, \":\", hyperonyms))\n",
    "#for term in PROBLEM_WORDS:\n",
    "#    print(get_hyperonyms(term))"
   ]
  },
  {
   "cell_type": "code",
   "execution_count": 10,
   "id": "1e0df31f-6c3b-47ad-878a-10eef37c8a84",
   "metadata": {},
   "outputs": [],
   "source": [
    "def flag_clazz(text: str, features: Tuple[Set[str], Set[str]]) -> bool:\n",
    "    \"\"\"\n",
    "    Determine if a text contains any substrings from the first set in 'features'\n",
    "    and none from the second set.\n",
    "    \n",
    "    Args:\n",
    "    text (str): The text to check.\n",
    "    features (Tuple[Set[str], Set[str]]): A tuple containing two sets of substrings,\n",
    "                                         the first to check for presence and the second for absence.\n",
    "    \n",
    "    Returns:\n",
    "    bool: True if conditions are met, False otherwise.\n",
    "    \"\"\"\n",
    "    return any(subs in text for subs in features[0]) and not any(subs in text for subs in features[1])\n",
    "\n",
    "def filter_clazz(texts: Iterable[str], groups: Dict[str, Tuple[Set[str], Set[str]]]):\n",
    "    \"\"\"\n",
    "    A generator function that yields tuples of group keys and texts from a collection\n",
    "    where the texts match the feature criteria of the corresponding group.\n",
    "    \n",
    "    Args:\n",
    "    texts (Iterable[str]): A collection of text strings to be filtered.\n",
    "    groups (Dict[str, Tuple[Set[str], Set[str]]]): A dictionary of groups, each associated with\n",
    "                                                   a tuple of sets defining the inclusion and exclusion criteria.\n",
    "    \n",
    "    Yields:\n",
    "    Tuple[str, str]: Tuples where the first element is a group key and the second is a text matching that group's criteria.\n",
    "    \"\"\"\n",
    "    res = []\n",
    "    for k, v in groups.items():\n",
    "        for text in texts:\n",
    "            if flag_clazz(text, v):\n",
    "                yield (k, text)\n",
    "\n",
    "def filter_clazz(texts: Iterable[str], groups: Dict[str, Tuple[Set[str], Set[str]]]) -> str:\n",
    "    \"\"\"\n",
    "    Filters texts by applying group criteria from 'groups' and returns the most common group\n",
    "    label based on the frequency of matches, or a default label if no matches are found.\n",
    "    \n",
    "    Args:\n",
    "    texts (Iterable[str]): A collection of text strings to be filtered.\n",
    "    groups (Dict[str, Tuple[Set[str], Set[str]]]): A dictionary of groups with their respective features.\n",
    "    \n",
    "    Returns:\n",
    "    str: The most common group label or \"Core\" if no matches are found.\n",
    "    \"\"\"\n",
    "    labels = [k for text in texts for k, v in groups.items() if flag_clazz(text, v)]\n",
    "    if labels:\n",
    "        buff = Counter(labels)\n",
    "        return buff.most_common()[0][0]\n",
    "    return \"Core\"\n",
    "\n",
    "def filter_clazz(concept: Any, groups: Dict[str, Tuple[Set[str], Set[str]]], default:str = None) -> str:\n",
    "    \"\"\"\n",
    "    Determines the group classification of a concept based on the predefined groups.\n",
    "\n",
    "    Args:\n",
    "    concept (Any): The concept to be classified.\n",
    "    groups (Dict[str, Tuple[Set[str], Set[str]]]): Groups with their respective criteria for classification.\n",
    "\n",
    "    Returns:\n",
    "    str: The classification of the concept, if any.\n",
    "    \"\"\"\n",
    "    for group_name, (includes, excludes) in groups.items():\n",
    "        if any(include in concept for include in includes) and not any(exclude in concept for exclude in excludes):\n",
    "            return group_name\n",
    "    return default\n",
    "            \n",
    "#print([el for el in voc_claz.items()  if flag_clazz(el[0],GROUPS[\"Technology\"]) ])\n",
    "#print([el for el in voc_claz.items()  if flag_clazz(el[0],GROUPS[\"Material\"]) ])\n",
    "#print([el for el in voc_claz.items() if flag_clazz(el[0],GROUPS[\"Method\"]) ])\n",
    "\n"
   ]
  },
  {
   "cell_type": "code",
   "execution_count": 11,
   "id": "35194818-8b18-4a33-a4ed-3489deda4db9",
   "metadata": {},
   "outputs": [],
   "source": [
    "with open(\"wikifier.pkl\",\"rb\") as fh:\n",
    "    df = pd.read_pickle(fh)\n",
    "    \n",
    "\n"
   ]
  },
  {
   "cell_type": "code",
   "execution_count": 12,
   "id": "fec156b3-bbfe-4178-8265-02e272109571",
   "metadata": {},
   "outputs": [],
   "source": [
    "with open(\"ONTO_9640_article_text_string_lt_1m.xlsx\",\"rb\") as fh:\n",
    "    onto = pd.read_excel(fh)\n",
    "#onto\n",
    "#onto = None"
   ]
  },
  {
   "cell_type": "markdown",
   "id": "e96ee93e-693c-44d2-bf6d-38a253f795d5",
   "metadata": {},
   "source": [
    "#### Get Wiki concepts from Texts"
   ]
  },
  {
   "cell_type": "code",
   "execution_count": 13,
   "id": "9c41523e-04b7-4d27-b1c1-12012ad3414c",
   "metadata": {},
   "outputs": [],
   "source": [
    "#df.chunk_apply(\"abstract\",\"concepts\",func = call_wikifier,parts = 10,start = 0)"
   ]
  },
  {
   "cell_type": "markdown",
   "id": "69422ebc-c07b-43e2-aa7b-0ad1a54d1598",
   "metadata": {},
   "source": [
    "#### Get Wiki classes (is-a)"
   ]
  },
  {
   "cell_type": "code",
   "execution_count": 14,
   "id": "904c477a-dbb9-4dec-bd0d-3b4c63341f2c",
   "metadata": {
    "tags": []
   },
   "outputs": [],
   "source": [
    "#df.chunk_apply(\"concepts\",\"concepts\",func = lambda concepts: [(el[0],get_concept_info(el[0])) for el in concepts],parts = 10,start = 8)\n"
   ]
  },
  {
   "cell_type": "code",
   "execution_count": 15,
   "id": "350ea634-2542-48ce-9c38-d6937a0437ce",
   "metadata": {
    "tags": []
   },
   "outputs": [
    {
     "data": {
      "text/plain": [
       "Index(['author', 'title', 'abstract', 'article_text_string',\n",
       "       'article_text_list', 'number_of_symbols', 'number_of_words',\n",
       "       'number_of_sentences', 'concepts'],\n",
       "      dtype='object')"
      ]
     },
     "execution_count": 15,
     "metadata": {},
     "output_type": "execute_result"
    }
   ],
   "source": [
    "df.columns"
   ]
  },
  {
   "cell_type": "markdown",
   "id": "a8081bc6-358e-4e2f-9126-6ea0f8ff5673",
   "metadata": {},
   "source": [
    "#### Create Frequency Vocabular of Concepts, Clazzz and Is-A relation"
   ]
  },
  {
   "cell_type": "code",
   "execution_count": 16,
   "id": "a46f4ee7-1e62-4789-bea0-8d3caaee0bef",
   "metadata": {
    "tags": []
   },
   "outputs": [],
   "source": [
    "def obsolete():\n",
    "    for i in range(len(df)):\n",
    "        for j in range(len(df[\"concepts\"].iloc[i])):\n",
    "            text = df[\"concepts\"].iloc[i][j][0]\n",
    "            if text not in STOP_WORDS:\n",
    "\n",
    "                voc_conc[text] += 1\n",
    "                if df[\"concepts\"].iloc[i][j][1]:\n",
    "                    for k in range(len(df[\"concepts\"].iloc[i][j][1])):\n",
    "                        voc_claz[df[\"concepts\"].iloc[i][j][1][k]] += 1 \n",
    "                        is_a[text].add(df[\"concepts\"].iloc[i][j][1][k])\n",
    "                else:\n",
    "                    is_a[text].add(\"unknown\")\n",
    "\n",
    "\n",
    "    is_a[\"Value chain\"]=set()\n",
    "    is_a[\"Value chain\"].add(\"unknown\")\n",
    "\n",
    "    is_a[\"Sustainable Development Goals\"]=set()\n",
    "    is_a[\"Sustainable Development Goals\"].add(\"unknown\")\n",
    "\n",
    "    for word in PROBLEM_WORDS:\n",
    "        for el in [\"material\",\"chemical\",\"substance\",\"element\",\"component\"]:\n",
    "            is_a[word].add(el)\n",
    "#obsolete()"
   ]
  },
  {
   "cell_type": "code",
   "execution_count": 17,
   "id": "a5a14da5-35cd-41b1-92e9-b11747571734",
   "metadata": {},
   "outputs": [],
   "source": [
    "#is_a[\"Smart contract\"]"
   ]
  },
  {
   "cell_type": "code",
   "execution_count": 18,
   "id": "bb6beaed-5cf2-4a55-a790-81f04780a1b6",
   "metadata": {},
   "outputs": [],
   "source": [
    "def build_concept_matrix(df: pd.DataFrame, stop_words: Set[str]) -> Counter:\n",
    "    \"\"\"\n",
    "    Builds a co-occurrence matrix for concepts listed in each row of a DataFrame,\n",
    "    excluding any concepts that are contained within a set of stop words.\n",
    "\n",
    "    Args:\n",
    "    df (pd.DataFrame): A DataFrame containing a column 'concepts' where each cell is a list of tuples,\n",
    "                       each tuple containing a concept and potentially other associated data.\n",
    "    stop_words (Set[str]): A set of words to exclude from the matrix calculation.\n",
    "\n",
    "    Returns:\n",
    "    Counter: A Counter object representing the co-occurrence matrix where the keys are tuples of concepts\n",
    "             and the values are the counts of their co-occurrences in the DataFrame.\n",
    "    \"\"\"\n",
    "    concept_matrix = Counter()\n",
    "    for concepts in df['concepts']:\n",
    "        for i, el1 in enumerate(concepts):\n",
    "            for j in range(i + 1, len(concepts)):\n",
    "                el2 = concepts[j]\n",
    "                if el1[0] not in stop_words and el2[0] not in stop_words:\n",
    "                    concept_matrix[(el1[0], el2[0])] += 1\n",
    "                    concept_matrix[(el2[0], el1[0])] += 1\n",
    "    return concept_matrix\n"
   ]
  },
  {
   "cell_type": "code",
   "execution_count": 19,
   "id": "97341248-159e-4aed-9ff2-64012f7b4e35",
   "metadata": {},
   "outputs": [],
   "source": [
    "# TODO el1[0], el2[0] => el1, el2 \n",
    "def build_concept_matrix(concepts_series: pd.Series, stop_words: Set[str], syn_sets: Dict[str,str] = None) -> Counter:\n",
    "    \"\"\"\n",
    "    Builds a co-occurrence matrix for concepts listed in each element of a pandas Series,\n",
    "    excluding any concepts that are contained within a set of stop words.\n",
    "\n",
    "    Args:\n",
    "    concepts_series (pd.Series): A Series where each element is a list of tuples,\n",
    "                                 each tuple containing a concept and potentially other associated data.\n",
    "    stop_words (Set[str]): A set of words to exclude from the matrix calculation.\n",
    "\n",
    "    Returns:\n",
    "    Counter: A Counter object representing the co-occurrence matrix where the keys are tuples of concepts\n",
    "             and the values are the counts of their co-occurrences in the Series.\n",
    "    \"\"\"\n",
    "    concept_matrix = Counter()\n",
    "    for concepts in concepts_series:\n",
    "        for i, el1 in enumerate(concepts):\n",
    "            for j in range(i + 1, len(concepts)):\n",
    "                el2 = concepts[j]\n",
    "                if el1[0] not in stop_words and el2[0] not in stop_words:\n",
    "                    if not syn_sets:\n",
    "                        concept_matrix[(el1[0], el2[0])] += 1\n",
    "                        concept_matrix[(el2[0], el1[0])] += 1\n",
    "                    else:\n",
    "                        key1 = syn_sets[el1[0]] if el1[0] in syn_sets else el1[0]\n",
    "                        key2 = syn_sets[el2[0]] if el2[0] in syn_sets else el2[0]\n",
    "                        concept_matrix[(key1,key2)] += 1\n",
    "                        concept_matrix[(key2,key1)] += 1\n",
    "    return concept_matrix\n"
   ]
  },
  {
   "cell_type": "code",
   "execution_count": 20,
   "id": "653cd4a0-d287-48f4-95e3-c0e596c2bfe4",
   "metadata": {},
   "outputs": [],
   "source": [
    "bufff = build_concept_matrix(df[\"concepts\"],STOP_WORDS,SYN_SETS)"
   ]
  },
  {
   "cell_type": "code",
   "execution_count": 21,
   "id": "a6c49376-5600-47ec-93af-c75879c00fc5",
   "metadata": {},
   "outputs": [
    {
     "data": {
      "text/plain": [
       "[(('Construction', 'Sustainability'), 144),\n",
       " (('Sustainability', 'Construction'), 144),\n",
       " (('Technology', 'Sustainability'), 91),\n",
       " (('Sustainability', 'Technology'), 91),\n",
       " (('Sustainability', 'Circular economy'), 75),\n",
       " (('Circular economy', 'Sustainability'), 75),\n",
       " (('Sustainability', 'Energy'), 67),\n",
       " (('Energy', 'Sustainability'), 67),\n",
       " (('Sustainability', 'Sustainability'), 66),\n",
       " (('Construction', 'Circular economy'), 64)]"
      ]
     },
     "execution_count": 21,
     "metadata": {},
     "output_type": "execute_result"
    }
   ],
   "source": [
    "bufff.most_common()[:10]"
   ]
  },
  {
   "cell_type": "code",
   "execution_count": 22,
   "id": "2bf20ae1-1a14-4527-b06d-e10591c4e44b",
   "metadata": {},
   "outputs": [],
   "source": [
    "#[(filter_clazz(is_a[el[0][0]],GROUPS),filter_clazz(is_a[el[0][1]],GROUPS)) for el in concept_matrix.most_common()]"
   ]
  },
  {
   "cell_type": "code",
   "execution_count": 23,
   "id": "66fdef93-9298-4a6d-b07d-cf58e4fc3e76",
   "metadata": {},
   "outputs": [
    {
     "name": "stdout",
     "output_type": "stream",
     "text": [
      "'Cutoff frequency: 2.0'\n",
      "9871\n"
     ]
    }
   ],
   "source": [
    "def filter_by_percentile(concept_matrix: Counter, percentile: float = 90) -> List[Tuple[Tuple[str, str], int]]:\n",
    "    \"\"\"\n",
    "    Filters concept pairs from a co-occurrence matrix that meet or exceed the specified percentile.\n",
    "\n",
    "    Args:\n",
    "    concept_matrix (Counter): The co-occurrence matrix of concepts.\n",
    "    percentile (float): The percentile to use as a cutoff for filtering.\n",
    "\n",
    "    Returns:\n",
    "    List[Tuple[Tuple[str, str], int]]: A list of concept pairs with their frequencies that meet or exceed the cutoff.\n",
    "    \"\"\"\n",
    "    freqs = np.array([el[1] for el in concept_matrix.most_common()])\n",
    "    cutoff = np.percentile(freqs, percentile)\n",
    "    print(f'Cutoff frequency: {cutoff}')\n",
    "    return [(pair, freq) for pair, freq in concept_matrix.items() if freq >= cutoff]\n",
    "fltr_list = filter_by_percentile(bufff)\n",
    "print(len(fltr_list))"
   ]
  },
  {
   "cell_type": "code",
   "execution_count": 24,
   "id": "57d796d6-2089-44b5-a7ad-ac1720749ef0",
   "metadata": {},
   "outputs": [
    {
     "name": "stdout",
     "output_type": "stream",
     "text": [
      "'Cutoff degree: 50'\n",
      "40749\n"
     ]
    }
   ],
   "source": [
    "def filter_by_degree(concept_matrix: Counter, cutoff: float = 50) -> List[Tuple[Tuple[str, str], int]]:\n",
    "    \"\"\"\n",
    "    Filters concept pairs from co-occurence matrix that have particular degree.\n",
    "    \n",
    "    Args:\n",
    "    concept_matrix (Counter): The co-occurence matrix of concepts.\n",
    "    percentile (float): The percentile to use as a cutodd for filtering.\n",
    "    \n",
    "    Returns:\n",
    "    List[Tuple[Tuple[str,str],int]: A list of concept pairs with their freqs that have the concrete degree.\n",
    "    \n",
    "    \"\"\"\n",
    "    degree = Counter()\n",
    "    for el in concept_matrix.items():\n",
    "        degree[el[0][0]]+=1\n",
    "    # freqs = np.array([el[1] for el in degree.most_common()])\n",
    "    # cutoff = np.percentile(freqs, percentile)\n",
    "    concepts = [el[0] for el in degree.most_common() if el[1]>cutoff]\n",
    "    print(f'Cutoff degree: {cutoff}')\n",
    "    return [(pair, freq) for pair, freq in concept_matrix.items() if pair[0] in concepts or pair[1] in concepts]\n",
    "fltr_list = filter_by_degree(bufff, cutoff = 50)\n",
    "print(len(fltr_list))"
   ]
  },
  {
   "cell_type": "code",
   "execution_count": 25,
   "id": "0b23a3a7-ad8d-4fc6-9b2b-dcc06bb8e9f5",
   "metadata": {},
   "outputs": [],
   "source": [
    "#degree = Counter()\n",
    "#for el in bufff.items():\n",
    "#    degree[el[0][0]]+=1\n"
   ]
  },
  {
   "cell_type": "code",
   "execution_count": 26,
   "id": "cbcf2149-ab8f-41d5-bc8f-3cd35c8b7ef1",
   "metadata": {},
   "outputs": [],
   "source": [
    "#filter_by_degree(bufff, 99)"
   ]
  },
  {
   "cell_type": "code",
   "execution_count": 27,
   "id": "0eac01cf-7d29-4f36-9830-1c1b2ecaf0cb",
   "metadata": {},
   "outputs": [
    {
     "name": "stdout",
     "output_type": "stream",
     "text": [
      "3145\n"
     ]
    }
   ],
   "source": [
    "def counter_to_dataframe(filtered_pairs: List[Tuple[Tuple[str, str], int]], is_a: Dict[str, Any], groups: Dict[str, Tuple[Set[str], Set[str]]]) -> pd.DataFrame:\n",
    "    \"\"\"\n",
    "    Transforms a list of filtered concept pairs into a DataFrame with additional categorization based on provided groups.\n",
    "\n",
    "    Args:\n",
    "    filtered_pairs (List[Tuple[Tuple[str, str], int]]): A list of concept pairs and their frequencies.\n",
    "    is_a (Dict[str, Any]): A dictionary mapping concepts to categories or other properties.\n",
    "    groups (Dict[str, Tuple[Set[str], Set[str]]]): A dictionary defining groups and their inclusion/exclusion criteria for categorization.\n",
    "\n",
    "    Returns:\n",
    "    pd.DataFrame: A DataFrame with categorized concept pairs and their frequencies.\n",
    "    \"\"\"\n",
    "    buff = []\n",
    "    for (el1, el2), freq in filtered_pairs:\n",
    "        clazz1 = filter_clazz(is_a[el1], groups)\n",
    "        clazz2 = filter_clazz(is_a[el2], groups)\n",
    "        if clazz1 and clazz2:\n",
    "            buff.append({\n",
    "                \"Section(Row)\": clazz1,\n",
    "                \"Section(Column)\": clazz2,\n",
    "                \"Name(Row)\": el1,\n",
    "                \"Name(Column)\": el2,\n",
    "                \"Frequency\": freq\n",
    "            })\n",
    "    return pd.DataFrame(buff)\n",
    "lin_df = counter_to_dataframe(fltr_list,is_a,GROUPS)\n",
    "print(len(lin_df))"
   ]
  },
  {
   "cell_type": "code",
   "execution_count": 28,
   "id": "b9afc264-efc1-4564-bafb-be033d0b6a21",
   "metadata": {},
   "outputs": [
    {
     "name": "stdout",
     "output_type": "stream",
     "text": [
      "'Number of unique rows: 63'\n",
      "'Number of unique columns: 63'\n"
     ]
    },
    {
     "name": "stderr",
     "output_type": "stream",
     "text": [
      "Populating matrix: 100%|██████████████████████████████████████████████████████████| 3145/3145 [00:05<00:00, 543.87it/s]\n"
     ]
    }
   ],
   "source": [
    "def create_matrix_from_dataframe(df: pd.DataFrame) -> pd.DataFrame:\n",
    "    \"\"\"\n",
    "    Processes a DataFrame to sort by specified criteria, extract unique indices, \n",
    "    and populate a new DataFrame with multi-level indices and columns based on frequencies.\n",
    "\n",
    "    Args:\n",
    "    df (pd.DataFrame): The input DataFrame that contains 'Section' and 'Name' categories with 'Frequency' data.\n",
    "\n",
    "    Returns:\n",
    "    pd.DataFrame: A new DataFrame where rows and columns are multi-level indices representing unique 'Section' and 'Name' combinations, and the cell values are 'Frequency' from the original DataFrame.\n",
    "    \"\"\"\n",
    "    # Sort by row identifiers and calculate unique row indices\n",
    "    # df = df.sort_values(by=['Section(Row)', 'Name(Row)', 'Frequency'], ascending=False)\n",
    "    df = df.sort_values(by=['Section(Row)', 'Frequency'], ascending=False)\n",
    "\n",
    "    unique_rows = df[['Section(Row)', 'Name(Row)']].drop_duplicates()\n",
    "    indices = pd.MultiIndex.from_tuples(unique_rows.values.tolist())\n",
    "    print(f\"Number of unique rows: {len(indices)}\")\n",
    "\n",
    "    # Sort by column identifiers and calculate unique column indices\n",
    "    #df = df.sort_values(by=['Section(Column)', 'Name(Column)', 'Frequency'], ascending=False)\n",
    "    df = df.sort_values(by=['Section(Column)', 'Frequency'], ascending=False)\n",
    "    unique_columns = df[['Section(Column)', 'Name(Column)']].drop_duplicates()\n",
    "    columns = pd.MultiIndex.from_tuples(unique_columns.values.tolist())\n",
    "    print(f\"Number of unique columns: {len(columns)}\")\n",
    "\n",
    "    # Initialize an empty data array to create the DataFrame\n",
    "    data = np.zeros((len(indices), len(columns)))\n",
    "\n",
    "    # Create the DataFrame with specified indices and columns\n",
    "    result = pd.DataFrame(data, index=indices, columns=columns)\n",
    "\n",
    "    # Populate the DataFrame using the frequencies from the original DataFrame\n",
    "    for i in tqdm(range(len(df)), desc=\"Populating matrix\"):\n",
    "        result.loc[\n",
    "            (df.iloc[i]['Section(Row)'], df.iloc[i]['Name(Row)']),\n",
    "            (df.iloc[i]['Section(Column)'], df.iloc[i]['Name(Column)'])\n",
    "        ] = df.iloc[i]['Frequency']\n",
    "\n",
    "    return result\n",
    "result = create_matrix_from_dataframe(lin_df)"
   ]
  },
  {
   "cell_type": "code",
   "execution_count": null,
   "id": "ac79b2d7-477a-44f9-b45e-5747db9d6fc0",
   "metadata": {},
   "outputs": [],
   "source": [
    "result"
   ]
  },
  {
   "cell_type": "code",
   "execution_count": null,
   "id": "61d268e7-e1e8-4335-acbc-3899e2de8cb7",
   "metadata": {},
   "outputs": [],
   "source": [
    "result.to_excel('concept_matrix_top7.xlsx', engine='openpyxl')"
   ]
  },
  {
   "cell_type": "code",
   "execution_count": 135,
   "id": "4f1e925c-aa32-405a-a689-0a980a0440b5",
   "metadata": {},
   "outputs": [],
   "source": [
    "CORE_CONCEPTS = [\"Circular economy\",\"Sustainability\"]\n",
    "df = lin_df.sort_values(by=['Section(Row)', 'Frequency'], ascending=False)\n",
    "unique_rows = df[['Section(Row)']].drop_duplicates()"
   ]
  },
  {
   "cell_type": "code",
   "execution_count": 136,
   "id": "f17eba6c-066f-4de9-9353-fb2b2a9392e7",
   "metadata": {},
   "outputs": [],
   "source": [
    "pearson_corr = result.corr(method='pearson')"
   ]
  },
  {
   "cell_type": "code",
   "execution_count": 137,
   "id": "6f37103a-f8b6-44b8-a4f1-7e4866b6c5ca",
   "metadata": {},
   "outputs": [],
   "source": [
    "def top_concepts(df:pd.DataFrame, core_concept:str, ascending=False) -> pd.DataFrame:\n",
    "    # Assume `df` is your DataFrame containing Numerical coefficients\n",
    "    # and `CORE_CONCEPTS` is a list of concepts you are interested in.\n",
    "\n",
    "    # Extract the Series for the first concept in CORE_CONCEPTS\n",
    "    series = df[core_concept]\n",
    "\n",
    "    # Ensure we have a Series\n",
    "    if isinstance(series, pd.DataFrame):\n",
    "        series = series.iloc[:, 0]\n",
    "\n",
    "    # Sort the Series in descending order\n",
    "    sorted_series = series.sort_values(ascending=ascending)\n",
    "\n",
    "    # Get the top 10 correlated concepts, excluding the first one which is the concept itself\n",
    "    top_series = sorted_series\n",
    "\n",
    "    # Display the top 10 correlated concepts and their correlation values\n",
    "    return pd.DataFrame([{\"Concept\":concept[1], \"Value\":f\"{value:.2f}\"} for concept, value in top_series.items()])\n",
    "        \n"
   ]
  },
  {
   "cell_type": "code",
   "execution_count": 146,
   "id": "31054354-efa1-4480-99a3-f8b37987ac07",
   "metadata": {},
   "outputs": [],
   "source": [
    "df_cfreq = pd.concat([top_concepts(result,CORE_CONCEPTS[0]).iloc[0:10],top_concepts(result,CORE_CONCEPTS[1]).iloc[0:10]], keys = CORE_CONCEPTS,axis=1)\n",
    "df_cfreq = df_cfreq.style.set_caption('Top 10 Most Frequent Concept Pairs with \"Circular Economy\" and \"Sustainable Development\"')\n",
    "with open(\"table.txt\",\"a\") as fh:\n",
    "    fh.write(df_cfreq.to_latex())"
   ]
  },
  {
   "cell_type": "code",
   "execution_count": 139,
   "id": "385ee136-4d0f-4872-b93e-5731bc138688",
   "metadata": {},
   "outputs": [
    {
     "data": {
      "text/html": [
       "<style type=\"text/css\">\n",
       "</style>\n",
       "<table id=\"T_bb6a7_\">\n",
       "  <caption>Top 10 Most Frequent Concept Pairs with \"Circular Economy\" and \"Sustainable Development\"</caption>\n",
       "  <thead>\n",
       "    <tr>\n",
       "      <th class=\"blank level0\" >&nbsp;</th>\n",
       "      <th class=\"col_heading level0 col0\" colspan=\"2\">Circular economy</th>\n",
       "      <th class=\"col_heading level0 col2\" colspan=\"2\">Sustainability</th>\n",
       "    </tr>\n",
       "    <tr>\n",
       "      <th class=\"blank level1\" >&nbsp;</th>\n",
       "      <th class=\"col_heading level1 col0\" >Concept</th>\n",
       "      <th class=\"col_heading level1 col1\" >Value</th>\n",
       "      <th class=\"col_heading level1 col2\" >Concept</th>\n",
       "      <th class=\"col_heading level1 col3\" >Value</th>\n",
       "    </tr>\n",
       "  </thead>\n",
       "  <tbody>\n",
       "    <tr>\n",
       "      <th id=\"T_bb6a7_level0_row0\" class=\"row_heading level0 row0\" >0</th>\n",
       "      <td id=\"T_bb6a7_row0_col0\" class=\"data row0 col0\" >Sustainability</td>\n",
       "      <td id=\"T_bb6a7_row0_col1\" class=\"data row0 col1\" >75.00</td>\n",
       "      <td id=\"T_bb6a7_row0_col2\" class=\"data row0 col2\" >Construction</td>\n",
       "      <td id=\"T_bb6a7_row0_col3\" class=\"data row0 col3\" >144.00</td>\n",
       "    </tr>\n",
       "    <tr>\n",
       "      <th id=\"T_bb6a7_level0_row1\" class=\"row_heading level0 row1\" >1</th>\n",
       "      <td id=\"T_bb6a7_row1_col0\" class=\"data row1 col0\" >Construction</td>\n",
       "      <td id=\"T_bb6a7_row1_col1\" class=\"data row1 col1\" >64.00</td>\n",
       "      <td id=\"T_bb6a7_row1_col2\" class=\"data row1 col2\" >Technology</td>\n",
       "      <td id=\"T_bb6a7_row1_col3\" class=\"data row1 col3\" >91.00</td>\n",
       "    </tr>\n",
       "    <tr>\n",
       "      <th id=\"T_bb6a7_level0_row2\" class=\"row_heading level0 row2\" >2</th>\n",
       "      <td id=\"T_bb6a7_row2_col0\" class=\"data row2 col0\" >Economy</td>\n",
       "      <td id=\"T_bb6a7_row2_col1\" class=\"data row2 col1\" >35.00</td>\n",
       "      <td id=\"T_bb6a7_row2_col2\" class=\"data row2 col2\" >Circular economy</td>\n",
       "      <td id=\"T_bb6a7_row2_col3\" class=\"data row2 col3\" >75.00</td>\n",
       "    </tr>\n",
       "    <tr>\n",
       "      <th id=\"T_bb6a7_level0_row3\" class=\"row_heading level0 row3\" >3</th>\n",
       "      <td id=\"T_bb6a7_row3_col0\" class=\"data row3 col0\" >Recycling</td>\n",
       "      <td id=\"T_bb6a7_row3_col1\" class=\"data row3 col1\" >32.00</td>\n",
       "      <td id=\"T_bb6a7_row3_col2\" class=\"data row3 col2\" >Energy</td>\n",
       "      <td id=\"T_bb6a7_row3_col3\" class=\"data row3 col3\" >67.00</td>\n",
       "    </tr>\n",
       "    <tr>\n",
       "      <th id=\"T_bb6a7_level0_row4\" class=\"row_heading level0 row4\" >4</th>\n",
       "      <td id=\"T_bb6a7_row4_col0\" class=\"data row4 col0\" >Waste management</td>\n",
       "      <td id=\"T_bb6a7_row4_col1\" class=\"data row4 col1\" >31.00</td>\n",
       "      <td id=\"T_bb6a7_row4_col2\" class=\"data row4 col2\" >Sustainability</td>\n",
       "      <td id=\"T_bb6a7_row4_col3\" class=\"data row4 col3\" >66.00</td>\n",
       "    </tr>\n",
       "    <tr>\n",
       "      <th id=\"T_bb6a7_level0_row5\" class=\"row_heading level0 row5\" >5</th>\n",
       "      <td id=\"T_bb6a7_row5_col0\" class=\"data row5 col0\" >Scientific method</td>\n",
       "      <td id=\"T_bb6a7_row5_col1\" class=\"data row5 col1\" >30.00</td>\n",
       "      <td id=\"T_bb6a7_row5_col2\" class=\"data row5 col2\" >Scientific method</td>\n",
       "      <td id=\"T_bb6a7_row5_col3\" class=\"data row5 col3\" >61.00</td>\n",
       "    </tr>\n",
       "    <tr>\n",
       "      <th id=\"T_bb6a7_level0_row6\" class=\"row_heading level0 row6\" >6</th>\n",
       "      <td id=\"T_bb6a7_row6_col0\" class=\"data row6 col0\" >Technology</td>\n",
       "      <td id=\"T_bb6a7_row6_col1\" class=\"data row6 col1\" >29.00</td>\n",
       "      <td id=\"T_bb6a7_row6_col2\" class=\"data row6 col2\" >Industrial Revolution</td>\n",
       "      <td id=\"T_bb6a7_row6_col3\" class=\"data row6 col3\" >60.00</td>\n",
       "    </tr>\n",
       "    <tr>\n",
       "      <th id=\"T_bb6a7_level0_row7\" class=\"row_heading level0 row7\" >7</th>\n",
       "      <td id=\"T_bb6a7_row7_col0\" class=\"data row7 col0\" >Manufacturing</td>\n",
       "      <td id=\"T_bb6a7_row7_col1\" class=\"data row7 col1\" >27.00</td>\n",
       "      <td id=\"T_bb6a7_row7_col2\" class=\"data row7 col2\" >Concrete</td>\n",
       "      <td id=\"T_bb6a7_row7_col3\" class=\"data row7 col3\" >56.00</td>\n",
       "    </tr>\n",
       "    <tr>\n",
       "      <th id=\"T_bb6a7_level0_row8\" class=\"row_heading level0 row8\" >8</th>\n",
       "      <td id=\"T_bb6a7_row8_col0\" class=\"data row8 col0\" >Industrial Revolution</td>\n",
       "      <td id=\"T_bb6a7_row8_col1\" class=\"data row8 col1\" >27.00</td>\n",
       "      <td id=\"T_bb6a7_row8_col2\" class=\"data row8 col2\" >Manufacturing</td>\n",
       "      <td id=\"T_bb6a7_row8_col3\" class=\"data row8 col3\" >53.00</td>\n",
       "    </tr>\n",
       "    <tr>\n",
       "      <th id=\"T_bb6a7_level0_row9\" class=\"row_heading level0 row9\" >9</th>\n",
       "      <td id=\"T_bb6a7_row9_col0\" class=\"data row9 col0\" >Built environment</td>\n",
       "      <td id=\"T_bb6a7_row9_col1\" class=\"data row9 col1\" >22.00</td>\n",
       "      <td id=\"T_bb6a7_row9_col2\" class=\"data row9 col2\" >Research</td>\n",
       "      <td id=\"T_bb6a7_row9_col3\" class=\"data row9 col3\" >48.00</td>\n",
       "    </tr>\n",
       "  </tbody>\n",
       "</table>\n"
      ],
      "text/plain": [
       "<pandas.io.formats.style.Styler at 0x193054b5cc0>"
      ]
     },
     "execution_count": 139,
     "metadata": {},
     "output_type": "execute_result"
    }
   ],
   "source": [
    "df_cfreq"
   ]
  },
  {
   "cell_type": "code",
   "execution_count": 140,
   "id": "c3b41aa9-3614-406f-ad48-aa07b46af764",
   "metadata": {},
   "outputs": [],
   "source": [
    "df_cpearson = pd.concat([top_concepts(pearson_corr,CORE_CONCEPTS[0]).iloc[0:11],top_concepts(pearson_corr,CORE_CONCEPTS[1]).iloc[0:11]], keys = CORE_CONCEPTS, axis=1)\n",
    "df_cpearson = df_cpearson.style.set_caption('Top 10 Concept Pairs Most Strongly Correlated with \"Circular Economy\" and \"Sustainable Development\" Using Pearson Correlation')\n",
    "with open(\"table2.txt\",\"a\") as fh:\n",
    "    fh.write(df_cpearson.to_latex())"
   ]
  },
  {
   "cell_type": "code",
   "execution_count": 141,
   "id": "14f817c3-a462-4bd3-98dd-f7cd6349ca8c",
   "metadata": {},
   "outputs": [
    {
     "data": {
      "text/html": [
       "<div>\n",
       "<style scoped>\n",
       "    .dataframe tbody tr th:only-of-type {\n",
       "        vertical-align: middle;\n",
       "    }\n",
       "\n",
       "    .dataframe tbody tr th {\n",
       "        vertical-align: top;\n",
       "    }\n",
       "\n",
       "    .dataframe thead tr th {\n",
       "        text-align: left;\n",
       "    }\n",
       "</style>\n",
       "<table border=\"1\" class=\"dataframe\">\n",
       "  <thead>\n",
       "    <tr>\n",
       "      <th></th>\n",
       "      <th colspan=\"2\" halign=\"left\">Circular economy</th>\n",
       "      <th colspan=\"2\" halign=\"left\">Sustainability</th>\n",
       "    </tr>\n",
       "    <tr>\n",
       "      <th></th>\n",
       "      <th>Concept</th>\n",
       "      <th>Value</th>\n",
       "      <th>Concept</th>\n",
       "      <th>Value</th>\n",
       "    </tr>\n",
       "  </thead>\n",
       "  <tbody>\n",
       "    <tr>\n",
       "      <th>52</th>\n",
       "      <td>Cement</td>\n",
       "      <td>0.65</td>\n",
       "      <td>Urbanization</td>\n",
       "      <td>0.61</td>\n",
       "    </tr>\n",
       "    <tr>\n",
       "      <th>53</th>\n",
       "      <td>Machine</td>\n",
       "      <td>0.64</td>\n",
       "      <td>Clay</td>\n",
       "      <td>0.61</td>\n",
       "    </tr>\n",
       "    <tr>\n",
       "      <th>54</th>\n",
       "      <td>Materials science</td>\n",
       "      <td>0.63</td>\n",
       "      <td>Machine</td>\n",
       "      <td>0.60</td>\n",
       "    </tr>\n",
       "    <tr>\n",
       "      <th>55</th>\n",
       "      <td>Pollution</td>\n",
       "      <td>0.63</td>\n",
       "      <td>System</td>\n",
       "      <td>0.59</td>\n",
       "    </tr>\n",
       "    <tr>\n",
       "      <th>56</th>\n",
       "      <td>Research and development</td>\n",
       "      <td>0.62</td>\n",
       "      <td>Climate change</td>\n",
       "      <td>0.59</td>\n",
       "    </tr>\n",
       "    <tr>\n",
       "      <th>57</th>\n",
       "      <td>System</td>\n",
       "      <td>0.62</td>\n",
       "      <td>Biodiversity</td>\n",
       "      <td>0.58</td>\n",
       "    </tr>\n",
       "    <tr>\n",
       "      <th>58</th>\n",
       "      <td>Compressive strength</td>\n",
       "      <td>0.61</td>\n",
       "      <td>Materials science</td>\n",
       "      <td>0.58</td>\n",
       "    </tr>\n",
       "    <tr>\n",
       "      <th>59</th>\n",
       "      <td>Information</td>\n",
       "      <td>0.61</td>\n",
       "      <td>Composite material</td>\n",
       "      <td>0.57</td>\n",
       "    </tr>\n",
       "    <tr>\n",
       "      <th>60</th>\n",
       "      <td>Open access</td>\n",
       "      <td>0.58</td>\n",
       "      <td>Carbon footprint</td>\n",
       "      <td>0.57</td>\n",
       "    </tr>\n",
       "    <tr>\n",
       "      <th>61</th>\n",
       "      <td>Carbon footprint</td>\n",
       "      <td>0.56</td>\n",
       "      <td>Efficient energy use</td>\n",
       "      <td>0.54</td>\n",
       "    </tr>\n",
       "    <tr>\n",
       "      <th>62</th>\n",
       "      <td>Efficient energy use</td>\n",
       "      <td>0.56</td>\n",
       "      <td>Construction</td>\n",
       "      <td>0.53</td>\n",
       "    </tr>\n",
       "  </tbody>\n",
       "</table>\n",
       "</div>"
      ],
      "text/plain": [
       "            Circular economy              Sustainability      \n",
       "                     Concept Value               Concept Value\n",
       "52                    Cement  0.65          Urbanization  0.61\n",
       "53                   Machine  0.64                  Clay  0.61\n",
       "54         Materials science  0.63               Machine  0.60\n",
       "55                 Pollution  0.63                System  0.59\n",
       "56  Research and development  0.62        Climate change  0.59\n",
       "57                    System  0.62          Biodiversity  0.58\n",
       "58      Compressive strength  0.61     Materials science  0.58\n",
       "59               Information  0.61    Composite material  0.57\n",
       "60               Open access  0.58      Carbon footprint  0.57\n",
       "61          Carbon footprint  0.56  Efficient energy use  0.54\n",
       "62      Efficient energy use  0.56          Construction  0.53"
      ]
     },
     "execution_count": 141,
     "metadata": {},
     "output_type": "execute_result"
    }
   ],
   "source": [
    "df_cpearson_bottom = pd.concat([top_concepts(pearson_corr,CORE_CONCEPTS[0]).iloc[-11:],top_concepts(pearson_corr,CORE_CONCEPTS[1]).iloc[-11:]], keys = CORE_CONCEPTS, axis=1)\n",
    "df_cpearson_bottom"
   ]
  },
  {
   "cell_type": "code",
   "execution_count": 142,
   "id": "743f9200-64c9-404b-841b-782581107db2",
   "metadata": {},
   "outputs": [
    {
     "data": {
      "text/html": [
       "<style type=\"text/css\">\n",
       "</style>\n",
       "<table id=\"T_31824_\">\n",
       "  <caption>Top 10 Concept Pairs Most Strongly Correlated with \"Circular Economy\" and \"Sustainable Development\" Using Pearson Correlation</caption>\n",
       "  <thead>\n",
       "    <tr>\n",
       "      <th class=\"blank level0\" >&nbsp;</th>\n",
       "      <th class=\"col_heading level0 col0\" colspan=\"2\">Circular economy</th>\n",
       "      <th class=\"col_heading level0 col2\" colspan=\"2\">Sustainability</th>\n",
       "    </tr>\n",
       "    <tr>\n",
       "      <th class=\"blank level1\" >&nbsp;</th>\n",
       "      <th class=\"col_heading level1 col0\" >Concept</th>\n",
       "      <th class=\"col_heading level1 col1\" >Value</th>\n",
       "      <th class=\"col_heading level1 col2\" >Concept</th>\n",
       "      <th class=\"col_heading level1 col3\" >Value</th>\n",
       "    </tr>\n",
       "  </thead>\n",
       "  <tbody>\n",
       "    <tr>\n",
       "      <th id=\"T_31824_level0_row0\" class=\"row_heading level0 row0\" >0</th>\n",
       "      <td id=\"T_31824_row0_col0\" class=\"data row0 col0\" >Circular economy</td>\n",
       "      <td id=\"T_31824_row0_col1\" class=\"data row0 col1\" >1.00</td>\n",
       "      <td id=\"T_31824_row0_col2\" class=\"data row0 col2\" >Sustainability</td>\n",
       "      <td id=\"T_31824_row0_col3\" class=\"data row0 col3\" >1.00</td>\n",
       "    </tr>\n",
       "    <tr>\n",
       "      <th id=\"T_31824_level0_row1\" class=\"row_heading level0 row1\" >1</th>\n",
       "      <td id=\"T_31824_row1_col0\" class=\"data row1 col0\" >Industrial Revolution</td>\n",
       "      <td id=\"T_31824_row1_col1\" class=\"data row1 col1\" >0.84</td>\n",
       "      <td id=\"T_31824_row1_col2\" class=\"data row1 col2\" >Manufacturing</td>\n",
       "      <td id=\"T_31824_row1_col3\" class=\"data row1 col3\" >0.82</td>\n",
       "    </tr>\n",
       "    <tr>\n",
       "      <th id=\"T_31824_level0_row2\" class=\"row_heading level0 row2\" >2</th>\n",
       "      <td id=\"T_31824_row2_col0\" class=\"data row2 col0\" >Infrastructure</td>\n",
       "      <td id=\"T_31824_row2_col1\" class=\"data row2 col1\" >0.83</td>\n",
       "      <td id=\"T_31824_row2_col2\" class=\"data row2 col2\" >Industrial Revolution</td>\n",
       "      <td id=\"T_31824_row2_col3\" class=\"data row2 col3\" >0.80</td>\n",
       "    </tr>\n",
       "    <tr>\n",
       "      <th id=\"T_31824_level0_row3\" class=\"row_heading level0 row3\" >3</th>\n",
       "      <td id=\"T_31824_row3_col0\" class=\"data row3 col0\" >Technology</td>\n",
       "      <td id=\"T_31824_row3_col1\" class=\"data row3 col1\" >0.82</td>\n",
       "      <td id=\"T_31824_row3_col2\" class=\"data row3 col2\" >Construction waste</td>\n",
       "      <td id=\"T_31824_row3_col3\" class=\"data row3 col3\" >0.78</td>\n",
       "    </tr>\n",
       "    <tr>\n",
       "      <th id=\"T_31824_level0_row4\" class=\"row_heading level0 row4\" >4</th>\n",
       "      <td id=\"T_31824_row4_col0\" class=\"data row4 col0\" >Engineering</td>\n",
       "      <td id=\"T_31824_row4_col1\" class=\"data row4 col1\" >0.81</td>\n",
       "      <td id=\"T_31824_row4_col2\" class=\"data row4 col2\" >Economy</td>\n",
       "      <td id=\"T_31824_row4_col3\" class=\"data row4 col3\" >0.78</td>\n",
       "    </tr>\n",
       "    <tr>\n",
       "      <th id=\"T_31824_level0_row5\" class=\"row_heading level0 row5\" >5</th>\n",
       "      <td id=\"T_31824_row5_col0\" class=\"data row5 col0\" >Economic growth</td>\n",
       "      <td id=\"T_31824_row5_col1\" class=\"data row5 col1\" >0.81</td>\n",
       "      <td id=\"T_31824_row5_col2\" class=\"data row5 col2\" >Research and development</td>\n",
       "      <td id=\"T_31824_row5_col3\" class=\"data row5 col3\" >0.78</td>\n",
       "    </tr>\n",
       "    <tr>\n",
       "      <th id=\"T_31824_level0_row6\" class=\"row_heading level0 row6\" >6</th>\n",
       "      <td id=\"T_31824_row6_col0\" class=\"data row6 col0\" >Manufacturing</td>\n",
       "      <td id=\"T_31824_row6_col1\" class=\"data row6 col1\" >0.80</td>\n",
       "      <td id=\"T_31824_row6_col2\" class=\"data row6 col2\" >Waste management</td>\n",
       "      <td id=\"T_31824_row6_col3\" class=\"data row6 col3\" >0.77</td>\n",
       "    </tr>\n",
       "    <tr>\n",
       "      <th id=\"T_31824_level0_row7\" class=\"row_heading level0 row7\" >7</th>\n",
       "      <td id=\"T_31824_row7_col0\" class=\"data row7 col0\" >Paper</td>\n",
       "      <td id=\"T_31824_row7_col1\" class=\"data row7 col1\" >0.79</td>\n",
       "      <td id=\"T_31824_row7_col2\" class=\"data row7 col2\" >Paper</td>\n",
       "      <td id=\"T_31824_row7_col3\" class=\"data row7 col3\" >0.77</td>\n",
       "    </tr>\n",
       "    <tr>\n",
       "      <th id=\"T_31824_level0_row8\" class=\"row_heading level0 row8\" >8</th>\n",
       "      <td id=\"T_31824_row8_col0\" class=\"data row8 col0\" >Research</td>\n",
       "      <td id=\"T_31824_row8_col1\" class=\"data row8 col1\" >0.79</td>\n",
       "      <td id=\"T_31824_row8_col2\" class=\"data row8 col2\" >Built environment</td>\n",
       "      <td id=\"T_31824_row8_col3\" class=\"data row8 col3\" >0.77</td>\n",
       "    </tr>\n",
       "    <tr>\n",
       "      <th id=\"T_31824_level0_row9\" class=\"row_heading level0 row9\" >9</th>\n",
       "      <td id=\"T_31824_row9_col0\" class=\"data row9 col0\" >Construction waste</td>\n",
       "      <td id=\"T_31824_row9_col1\" class=\"data row9 col1\" >0.78</td>\n",
       "      <td id=\"T_31824_row9_col2\" class=\"data row9 col2\" >Scientific method</td>\n",
       "      <td id=\"T_31824_row9_col3\" class=\"data row9 col3\" >0.77</td>\n",
       "    </tr>\n",
       "    <tr>\n",
       "      <th id=\"T_31824_level0_row10\" class=\"row_heading level0 row10\" >10</th>\n",
       "      <td id=\"T_31824_row10_col0\" class=\"data row10 col0\" >Energy</td>\n",
       "      <td id=\"T_31824_row10_col1\" class=\"data row10 col1\" >0.78</td>\n",
       "      <td id=\"T_31824_row10_col2\" class=\"data row10 col2\" >Building material</td>\n",
       "      <td id=\"T_31824_row10_col3\" class=\"data row10 col3\" >0.76</td>\n",
       "    </tr>\n",
       "  </tbody>\n",
       "</table>\n"
      ],
      "text/plain": [
       "<pandas.io.formats.style.Styler at 0x193054b5d80>"
      ]
     },
     "execution_count": 142,
     "metadata": {},
     "output_type": "execute_result"
    }
   ],
   "source": [
    "df_cpearson"
   ]
  },
  {
   "cell_type": "code",
   "execution_count": 143,
   "id": "98f63891-5a30-436b-88eb-6b550b847897",
   "metadata": {},
   "outputs": [],
   "source": [
    "pearson_corr.to_excel('pearson_corr.xlsx', engine='openpyxl')"
   ]
  },
  {
   "cell_type": "code",
   "execution_count": 144,
   "id": "b4bb416e-518a-4d1c-9f7c-0c82255cbfbe",
   "metadata": {},
   "outputs": [],
   "source": [
    "spearman_corr = result.corr(method='spearman')"
   ]
  },
  {
   "cell_type": "code",
   "execution_count": 145,
   "id": "52180ab1-933c-49a6-8dae-b26f78a82774",
   "metadata": {},
   "outputs": [],
   "source": [
    "df_cspearman = pd.concat([top_concepts(spearman_corr,CORE_CONCEPTS[0]).iloc[0:11],top_concepts(spearman_corr,CORE_CONCEPTS[1]).iloc[0:11]], axis=1)\n",
    "df_cspearman = df_cspearman.style.set_caption('Top 10 Concept Pairs Most Strongly Correlated with \"Circular Economy\" and \"Sustainable Development\" Using Spearman Correlation')\n",
    "with open(\"table.txt\",\"a\") as fh:\n",
    "    fh.write(df_cspearman.to_latex())"
   ]
  },
  {
   "cell_type": "code",
   "execution_count": null,
   "id": "b24bda4d-d8d4-4a7d-bba1-7686bbefc9a2",
   "metadata": {},
   "outputs": [],
   "source": [
    "with open(\"table.txt\",\"a\") as fh:\n",
    "    fh.write(df_cspearman.to_latex())"
   ]
  },
  {
   "cell_type": "code",
   "execution_count": null,
   "id": "7ac2da65-8111-4de0-89d6-0171cf5b03f2",
   "metadata": {},
   "outputs": [],
   "source": [
    "df_cspearman_bottom = pd.concat([top_concepts(spearman_corr,CORE_CONCEPTS[0]).iloc[-11:],top_concepts(spearman_corr,CORE_CONCEPTS[1]).iloc[-11:]], axis=1)"
   ]
  },
  {
   "cell_type": "code",
   "execution_count": null,
   "id": "d7963f94-cffe-4ac4-8231-a2f840506dc9",
   "metadata": {},
   "outputs": [],
   "source": [
    "df_cspearman_bottom"
   ]
  },
  {
   "cell_type": "code",
   "execution_count": null,
   "id": "804808ad-2f3f-4ee1-9985-e4fd433b10c5",
   "metadata": {},
   "outputs": [],
   "source": [
    "spearman_corr.loc[CORE_CONCEPTS[0]]"
   ]
  },
  {
   "cell_type": "code",
   "execution_count": null,
   "id": "de792060-eb2b-49df-8944-49c3b2515a13",
   "metadata": {},
   "outputs": [],
   "source": []
  },
  {
   "cell_type": "code",
   "execution_count": null,
   "id": "ba072801-e0b6-4d5c-9ea9-7d7fdcdac595",
   "metadata": {},
   "outputs": [],
   "source": [
    "spearman_corr.loc[CORE_CONCEPTS[1]]"
   ]
  },
  {
   "cell_type": "code",
   "execution_count": null,
   "id": "082c5474-a599-43d5-aeb3-2fdf575668b5",
   "metadata": {},
   "outputs": [],
   "source": [
    "spearman_corr.to_excel('spearman_corr.xlsx', engine='openpyxl')"
   ]
  },
  {
   "cell_type": "code",
   "execution_count": 30,
   "id": "35e94739-77f3-4302-8c77-8e22a5c6993a",
   "metadata": {},
   "outputs": [],
   "source": [
    "def create_section_matrix_from_dataframe(df: pd.DataFrame) -> pd.DataFrame:\n",
    "    df = df.sort_values(by=['Section(Row)', 'Frequency'], ascending=False)\n",
    "\n",
    "    unique_rows = df[['Section(Row)']].drop_duplicates()\n",
    "    indices = pd.MultiIndex.from_tuples(unique_rows.values.tolist())\n",
    "    print(f\"Number of unique rows: {len(indices)}\")\n",
    "\n",
    "    # Sort by column identifiers and calculate unique column indices\n",
    "    #df = df.sort_values(by=['Section(Column)', 'Name(Column)', 'Frequency'], ascending=False)\n",
    "    df = df.sort_values(by=['Section(Column)', 'Frequency'], ascending=False)\n",
    "    unique_columns = df[['Section(Column)']].drop_duplicates()\n",
    "    columns = pd.MultiIndex.from_tuples(unique_columns.values.tolist())\n",
    "    print(f\"Number of unique columns: {len(columns)}\")\n",
    "    # Initialize an empty data array to create the DataFrame\n",
    "    data = np.zeros((len(indices), len(columns)))\n",
    "    # Create the DataFrame with specified indices and columns\n",
    "    result = pd.DataFrame(data, index=indices, columns=columns)\n",
    "    for i in tqdm(range(len(df)), desc=\"Populating matrix\"):\n",
    "        result.loc[\n",
    "            (df.iloc[i]['Section(Row)']),\n",
    "            (df.iloc[i]['Section(Column)'])\n",
    "        ] += df.iloc[i]['Frequency']    \n",
    "    return result"
   ]
  },
  {
   "cell_type": "code",
   "execution_count": 127,
   "id": "47c30f7f-a413-4c82-aad7-0c285fc20571",
   "metadata": {},
   "outputs": [
    {
     "name": "stdout",
     "output_type": "stream",
     "text": [
      "'Number of unique rows: 9'\n",
      "'Number of unique columns: 9'\n"
     ]
    },
    {
     "name": "stderr",
     "output_type": "stream",
     "text": [
      "Populating matrix: 100%|██████████████████████████████████████████████████████████| 3145/3145 [00:17<00:00, 183.73it/s]\n"
     ]
    }
   ],
   "source": [
    "section_matrix = create_section_matrix_from_dataframe(lin_df)"
   ]
  },
  {
   "cell_type": "code",
   "execution_count": 128,
   "id": "87dca4f4-1651-4557-854e-b53746285f12",
   "metadata": {},
   "outputs": [],
   "source": [
    "COLUMNS = [\n",
    "    'Sustainability',\n",
    "    'Circular economy',\n",
    "    'Built Environment',\n",
    "    'Economics',\n",
    "    'Environment',\n",
    "    'General Technology',\n",
    "    'Materials',\n",
    "    'Science and Research',\n",
    "    'Waste Management']\n",
    "\n",
    "section_matrix = section_matrix[COLUMNS].loc[COLUMNS]\n",
    "\n",
    "\n",
    "for el in ['Sustainability', 'Circular economy', 'Built Environment', 'Economics', 'Environment', 'General Technology', 'Materials', 'Science and Research', 'Waste Management']:\n",
    "    section_matrix.loc[el,el] = 0\n",
    "\n",
    "for col in COLUMNS:\n",
    "    total = section_matrix[col].sum()[0]\n",
    "    #print((col, total))\n",
    "    section_matrix[col] = section_matrix[col].apply(lambda x : round(x/total,2))"
   ]
  },
  {
   "cell_type": "code",
   "execution_count": 112,
   "id": "01d4c9aa-7dc6-4388-8ee0-8f32cb1f9f20",
   "metadata": {},
   "outputs": [],
   "source": [
    "\n",
    "for col in COLUMNS:\n",
    "    arr = np.array([section_matrix[col].iloc[ind][0] for ind in range(len(section_matrix[col]))])\n",
    "    section_matrix[col] = arr/arr.sum()"
   ]
  },
  {
   "cell_type": "code",
   "execution_count": 129,
   "id": "cd9fd95e-70a1-4568-82e8-804cf5eb15c8",
   "metadata": {},
   "outputs": [
    {
     "name": "stdout",
     "output_type": "stream",
     "text": [
      "Sustainability    1.01\n",
      "dtype: float64\n",
      "Circular economy    1.0\n",
      "dtype: float64\n",
      "Built Environment    0.99\n",
      "dtype: float64\n",
      "Economics    1.0\n",
      "dtype: float64\n",
      "Environment    1.0\n",
      "dtype: float64\n",
      "General Technology    1.0\n",
      "dtype: float64\n",
      "Materials    0.99\n",
      "dtype: float64\n",
      "Science and Research    1.0\n",
      "dtype: float64\n",
      "Waste Management    1.0\n",
      "dtype: float64\n"
     ]
    }
   ],
   "source": [
    "for col in COLUMNS:\n",
    "    print(section_matrix[col].sum())"
   ]
  },
  {
   "cell_type": "code",
   "execution_count": 126,
   "id": "8c9e8046-9c14-43d0-b84c-2ef86bee79af",
   "metadata": {},
   "outputs": [
    {
     "data": {
      "text/plain": [
       "0.51"
      ]
     },
     "execution_count": 126,
     "metadata": {},
     "output_type": "execute_result"
    }
   ],
   "source": [
    "round(0.51234,2)"
   ]
  },
  {
   "cell_type": "code",
   "execution_count": 130,
   "id": "2bea29aa-bc48-412d-8a89-817ca9640d1f",
   "metadata": {},
   "outputs": [
    {
     "data": {
      "text/html": [
       "<div>\n",
       "<style scoped>\n",
       "    .dataframe tbody tr th:only-of-type {\n",
       "        vertical-align: middle;\n",
       "    }\n",
       "\n",
       "    .dataframe tbody tr th {\n",
       "        vertical-align: top;\n",
       "    }\n",
       "\n",
       "    .dataframe thead tr th {\n",
       "        text-align: left;\n",
       "    }\n",
       "</style>\n",
       "<table border=\"1\" class=\"dataframe\">\n",
       "  <thead>\n",
       "    <tr>\n",
       "      <th></th>\n",
       "      <th>Sustainability</th>\n",
       "      <th>Circular economy</th>\n",
       "      <th>Built Environment</th>\n",
       "      <th>Economics</th>\n",
       "      <th>Environment</th>\n",
       "      <th>General Technology</th>\n",
       "      <th>Materials</th>\n",
       "      <th>Science and Research</th>\n",
       "      <th>Waste Management</th>\n",
       "    </tr>\n",
       "  </thead>\n",
       "  <tbody>\n",
       "    <tr>\n",
       "      <th>Sustainability</th>\n",
       "      <td>-</td>\n",
       "      <td>0.09</td>\n",
       "      <td>0.13</td>\n",
       "      <td>0.12</td>\n",
       "      <td>0.13</td>\n",
       "      <td>0.14</td>\n",
       "      <td>0.14</td>\n",
       "      <td>0.12</td>\n",
       "      <td>0.1</td>\n",
       "    </tr>\n",
       "    <tr>\n",
       "      <th>Circular economy</th>\n",
       "      <td>0.04</td>\n",
       "      <td>-</td>\n",
       "      <td>0.05</td>\n",
       "      <td>0.07</td>\n",
       "      <td>0.06</td>\n",
       "      <td>0.05</td>\n",
       "      <td>0.05</td>\n",
       "      <td>0.06</td>\n",
       "      <td>0.08</td>\n",
       "    </tr>\n",
       "    <tr>\n",
       "      <th>Built Environment</th>\n",
       "      <td>0.17</td>\n",
       "      <td>0.15</td>\n",
       "      <td>-</td>\n",
       "      <td>0.15</td>\n",
       "      <td>0.14</td>\n",
       "      <td>0.19</td>\n",
       "      <td>0.15</td>\n",
       "      <td>0.18</td>\n",
       "      <td>0.13</td>\n",
       "    </tr>\n",
       "    <tr>\n",
       "      <th>Economics</th>\n",
       "      <td>0.05</td>\n",
       "      <td>0.06</td>\n",
       "      <td>0.05</td>\n",
       "      <td>-</td>\n",
       "      <td>0.04</td>\n",
       "      <td>0.05</td>\n",
       "      <td>0.02</td>\n",
       "      <td>0.07</td>\n",
       "      <td>0.04</td>\n",
       "    </tr>\n",
       "    <tr>\n",
       "      <th>Environment</th>\n",
       "      <td>0.15</td>\n",
       "      <td>0.15</td>\n",
       "      <td>0.13</td>\n",
       "      <td>0.13</td>\n",
       "      <td>-</td>\n",
       "      <td>0.16</td>\n",
       "      <td>0.19</td>\n",
       "      <td>0.13</td>\n",
       "      <td>0.15</td>\n",
       "    </tr>\n",
       "    <tr>\n",
       "      <th>General Technology</th>\n",
       "      <td>0.25</td>\n",
       "      <td>0.18</td>\n",
       "      <td>0.27</td>\n",
       "      <td>0.21</td>\n",
       "      <td>0.25</td>\n",
       "      <td>-</td>\n",
       "      <td>0.24</td>\n",
       "      <td>0.3</td>\n",
       "      <td>0.22</td>\n",
       "    </tr>\n",
       "    <tr>\n",
       "      <th>Materials</th>\n",
       "      <td>0.14</td>\n",
       "      <td>0.1</td>\n",
       "      <td>0.12</td>\n",
       "      <td>0.05</td>\n",
       "      <td>0.17</td>\n",
       "      <td>0.14</td>\n",
       "      <td>-</td>\n",
       "      <td>0.07</td>\n",
       "      <td>0.18</td>\n",
       "    </tr>\n",
       "    <tr>\n",
       "      <th>Science and Research</th>\n",
       "      <td>0.13</td>\n",
       "      <td>0.14</td>\n",
       "      <td>0.16</td>\n",
       "      <td>0.2</td>\n",
       "      <td>0.12</td>\n",
       "      <td>0.18</td>\n",
       "      <td>0.07</td>\n",
       "      <td>-</td>\n",
       "      <td>0.1</td>\n",
       "    </tr>\n",
       "    <tr>\n",
       "      <th>Waste Management</th>\n",
       "      <td>0.08</td>\n",
       "      <td>0.13</td>\n",
       "      <td>0.08</td>\n",
       "      <td>0.07</td>\n",
       "      <td>0.09</td>\n",
       "      <td>0.09</td>\n",
       "      <td>0.13</td>\n",
       "      <td>0.07</td>\n",
       "      <td>-</td>\n",
       "    </tr>\n",
       "  </tbody>\n",
       "</table>\n",
       "</div>"
      ],
      "text/plain": [
       "                     Sustainability Circular economy Built Environment  \\\n",
       "Sustainability                    -             0.09              0.13   \n",
       "Circular economy               0.04                -              0.05   \n",
       "Built Environment              0.17             0.15                 -   \n",
       "Economics                      0.05             0.06              0.05   \n",
       "Environment                    0.15             0.15              0.13   \n",
       "General Technology             0.25             0.18              0.27   \n",
       "Materials                      0.14              0.1              0.12   \n",
       "Science and Research           0.13             0.14              0.16   \n",
       "Waste Management               0.08             0.13              0.08   \n",
       "\n",
       "                     Economics Environment General Technology Materials  \\\n",
       "Sustainability            0.12        0.13               0.14      0.14   \n",
       "Circular economy          0.07        0.06               0.05      0.05   \n",
       "Built Environment         0.15        0.14               0.19      0.15   \n",
       "Economics                    -        0.04               0.05      0.02   \n",
       "Environment               0.13           -               0.16      0.19   \n",
       "General Technology        0.21        0.25                  -      0.24   \n",
       "Materials                 0.05        0.17               0.14         -   \n",
       "Science and Research       0.2        0.12               0.18      0.07   \n",
       "Waste Management          0.07        0.09               0.09      0.13   \n",
       "\n",
       "                     Science and Research Waste Management  \n",
       "Sustainability                       0.12              0.1  \n",
       "Circular economy                     0.06             0.08  \n",
       "Built Environment                    0.18             0.13  \n",
       "Economics                            0.07             0.04  \n",
       "Environment                          0.13             0.15  \n",
       "General Technology                    0.3             0.22  \n",
       "Materials                            0.07             0.18  \n",
       "Science and Research                    -              0.1  \n",
       "Waste Management                     0.07                -  "
      ]
     },
     "execution_count": 130,
     "metadata": {},
     "output_type": "execute_result"
    }
   ],
   "source": [
    "for el in ['Sustainability', 'Circular economy', 'Built Environment', 'Economics', 'Environment', 'General Technology', 'Materials', 'Science and Research', 'Waste Management']:\n",
    "    section_matrix.loc[el,el] = \"-\"\n",
    "section_matrix"
   ]
  },
  {
   "cell_type": "code",
   "execution_count": 131,
   "id": "9654d22a-8eee-492e-ae95-1a9854145e56",
   "metadata": {},
   "outputs": [],
   "source": [
    "with open(\"table3.txt\",\"w\") as fh:\n",
    "    fh.write(section_matrix.to_latex())"
   ]
  },
  {
   "cell_type": "code",
   "execution_count": null,
   "id": "d425524b-d9c3-4952-b69b-fbbaa3825b1f",
   "metadata": {},
   "outputs": [],
   "source": [
    "result.to_pickle('concept_matrix_top2.pickle')"
   ]
  },
  {
   "cell_type": "code",
   "execution_count": null,
   "id": "f8c43a1a-b798-454d-8c96-75555f666d25",
   "metadata": {},
   "outputs": [],
   "source": [
    "for el in voc_conc.most_common():\n",
    "    print(is_a[el])"
   ]
  },
  {
   "cell_type": "code",
   "execution_count": null,
   "id": "8de7a6c7-aa8c-42d8-ab98-3d9a148fddc2",
   "metadata": {},
   "outputs": [],
   "source": [
    "df_conc=pd.DataFrame(voc_conc.items(), columns=[\"text\",\"freq\"])"
   ]
  },
  {
   "cell_type": "code",
   "execution_count": null,
   "id": "c60682b9-fde1-42ec-996d-aa114658b028",
   "metadata": {},
   "outputs": [],
   "source": [
    "df_claz = pd.DataFrame(voc_claz.items(), columns=[\"text\",\"freq\"])"
   ]
  },
  {
   "cell_type": "code",
   "execution_count": null,
   "id": "526bbd8c-bbd2-4834-9321-b6bb56ebf98a",
   "metadata": {},
   "outputs": [],
   "source": [
    "df_claz_fltr = df_claz[(df_claz[\"freq\"]>df_claz[\"freq\"].quantile(0.5)) & (df_claz[\"freq\"]<df_claz[\"freq\"].quantile(0.75))]"
   ]
  },
  {
   "cell_type": "code",
   "execution_count": null,
   "id": "cb7cb4bb-d461-40dc-bf69-cc1633161724",
   "metadata": {},
   "outputs": [],
   "source": [
    "df_conc_fltr = df_conc[(df_conc[\"freq\"]>df_conc[\"freq\"].quantile(0.25)) & (df_conc[\"freq\"]<df_conc[\"freq\"].quantile(0.75))]"
   ]
  },
  {
   "cell_type": "code",
   "execution_count": null,
   "id": "3c041d97-9906-4d04-94e6-1f55f8e8fe02",
   "metadata": {},
   "outputs": [],
   "source": [
    "#ToDo exclude the common clazzz with TFIDF measure, at the moment that was done with the help of quantile filteringa\n",
    "df_conc"
   ]
  },
  {
   "cell_type": "code",
   "execution_count": null,
   "id": "ab14435a-260f-4167-b0d0-4c99f0536cc5",
   "metadata": {},
   "outputs": [],
   "source": [
    "df[\"concepts\"] = df[\"abstract\"].progress_apply(CallWikifier)"
   ]
  },
  {
   "cell_type": "code",
   "execution_count": null,
   "id": "3be10666-363a-44e9-abf7-63017e664710",
   "metadata": {},
   "outputs": [],
   "source": [
    "df.to_excel(\"wikifier2.xlsx\") "
   ]
  },
  {
   "cell_type": "code",
   "execution_count": null,
   "id": "af4eb1da-642f-41fc-9d03-b7bcbd019014",
   "metadata": {},
   "outputs": [],
   "source": [
    "df.to_pickle(\"wikifier.pkl\") "
   ]
  },
  {
   "cell_type": "code",
   "execution_count": null,
   "id": "cec78947-2047-44bd-ab7e-77741d5d51e8",
   "metadata": {},
   "outputs": [],
   "source": [
    "df.iloc[11].concepts"
   ]
  },
  {
   "cell_type": "code",
   "execution_count": null,
   "id": "07191650-4ec7-45c3-aef8-d99cea3582e9",
   "metadata": {},
   "outputs": [],
   "source": [
    "df.iloc[11].abstract"
   ]
  },
  {
   "cell_type": "code",
   "execution_count": null,
   "id": "21c510fc-f28a-4e84-b009-2963c9739e10",
   "metadata": {},
   "outputs": [],
   "source": [
    "your_json = CallWikifier(df.iloc[0].abstract)"
   ]
  },
  {
   "cell_type": "code",
   "execution_count": null,
   "id": "2c44dd48-b30c-459f-b43e-643d2d7c247e",
   "metadata": {},
   "outputs": [],
   "source": [
    "print(json.dumps(your_json, indent=4))"
   ]
  },
  {
   "cell_type": "code",
   "execution_count": null,
   "id": "81277425-cea6-4363-b96e-59211f982c1e",
   "metadata": {},
   "outputs": [],
   "source": []
  },
  {
   "cell_type": "code",
   "execution_count": null,
   "id": "8594e82d-26bb-495d-ad81-7934ea42d51e",
   "metadata": {
    "tags": []
   },
   "outputs": [],
   "source": [
    "import pandas as pd\n",
    "import numpy as np\n",
    "\n",
    "# Define entities and attributes\n",
    "entities = ['US NASA', 'United Launch Alliance', 'Stennis Space Center', 'Roscosmos', 'Rocket Factory Augsburg']\n",
    "attributes = ['Satellite', 'Spacecraft', 'Research', 'Innovation', 'Funding', 'Launch', 'Cooperation']\n",
    "\n",
    "# Generate random data\n",
    "np.random.seed(42)  # for reproducibility\n",
    "data = np.random.poisson(lam=5, size=(len(entities), len(attributes)))\n",
    "\n",
    "# Create the DataFrame\n",
    "df = pd.DataFrame(data, index=entities, columns=attributes)\n",
    "\n",
    "# Optionally add more realistic touch by setting some entries to 0\n",
    "for _ in range(10):  # set 10 random points to 0\n",
    "    i = np.random.randint(0, len(entities))\n",
    "    j = np.random.randint(0, len(attributes))\n",
    "    df.iat[i, j] = 0\n",
    "\n",
    "print(df)\n"
   ]
  },
  {
   "cell_type": "code",
   "execution_count": null,
   "id": "7753abf1-66b2-4207-87e0-53f02d001d43",
   "metadata": {},
   "outputs": [],
   "source": [
    "def highlight_cells(val):\n",
    "    color = 'salmon' if val > 0 else ''\n",
    "    return f'background-color: {color}'\n",
    "\n",
    "styled_df = df.style.applymap(highlight_cells)\n",
    "styled_df\n"
   ]
  },
  {
   "cell_type": "code",
   "execution_count": null,
   "id": "44172a3c-4182-49cb-b273-c3cbf15d350e",
   "metadata": {},
   "outputs": [],
   "source": [
    "# Export to Excel\n",
    "styled_df.to_excel('concept_matrix.xlsx', engine='openpyxl')\n"
   ]
  },
  {
   "cell_type": "code",
   "execution_count": null,
   "id": "98788f9b-75ec-4fba-8dac-e071bc036bfa",
   "metadata": {},
   "outputs": [],
   "source": [
    "from collections import defaultdict\n",
    "import json\n",
    "\n",
    "# Original dictionary\n",
    "data = {\n",
    "    \"Waste management\": \"Environmental Management\",\n",
    "    \"Waste\": \"Environmental Management\",\n",
    "    \"Urbanization\": \"Civil Engineering\",\n",
    "    \"Technology\": \"General Technology\",\n",
    "    \"System\": \"General Technology\",\n",
    "    \"Sustainable development\": \"Sustainability\",\n",
    "    \"Sustainable architecture\": \"Sustainability\",\n",
    "    \"Sustainable Development Goals\": \"Sustainability\",\n",
    "    \"Sustainability\": \"Sustainability\",\n",
    "    \"Scientific method\": \"Science and Research\",\n",
    "    \"Science\": \"Science and Research\",\n",
    "    \"Research and development\": \"Science and Research\",\n",
    "    \"Research\": \"Science and Research\",\n",
    "    \"Renewable energy\": \"General Technology\",\n",
    "    \"Recycling\": \"Environmental Management\",\n",
    "    \"Raw material\": \"Materials Science\",\n",
    "    \"Pollution\": \"Environmental Science\",\n",
    "    \"Paper\": \"Materials Science\",\n",
    "    \"Open access\": \"Science and Research\",\n",
    "    \"Natural resource\": \"Environmental Science\",\n",
    "    \"Natural environment\": \"Environmental Science\",\n",
    "    \"Materials science\": \"Materials Science\",\n",
    "    \"Manufacturing\": \"General Technology\",\n",
    "    \"Machine\": \"General Technology\",\n",
    "    \"Literature\": \"Science and Research\",\n",
    "    \"Life-cycle assessment\": \"Environmental Science\",\n",
    "    \"Landfill\": \"Environmental Management\",\n",
    "    \"Knowledge\": \"Science and Research\",\n",
    "    \"Infrastructure\": \"Civil Engineering\",\n",
    "    \"Information\": \"General Technology\",\n",
    "    \"Industrial Revolution\": \"General Technology\",\n",
    "    \"Greenhouse gas emissions\": \"Environmental Science\",\n",
    "    \"Greenhouse gas\": \"Environmental Science\",\n",
    "    \"Green building\": \"Sustainability\",\n",
    "    \"Environmentally friendly\": \"Sustainability\",\n",
    "    \"Engineering\": \"Civil Engineering\",\n",
    "    \"Energy\": \"General Technology\",\n",
    "    \"Efficient energy use\": \"General Technology\",\n",
    "    \"Education\": \"Science and Research\",\n",
    "    \"Economy\": \"Economics\",\n",
    "    \"Economics\": \"Economics\",\n",
    "    \"Economic growth\": \"Economics\",\n",
    "    \"Ecology\": \"Environmental Science\",\n",
    "    \"Design\": \"General Technology\",\n",
    "    \"Decision-making\": \"General Technology\",\n",
    "    \"Database\": \"General Technology\",\n",
    "    \"Construction waste\": \"Environmental Management\",\n",
    "    \"Construction\": \"Civil Engineering\",\n",
    "    \"Concrete\": \"Materials Science\",\n",
    "    \"Computer\": \"General Technology\",\n",
    "    \"Compressive strength\": \"Materials Science\",\n",
    "    \"Composite material\": \"Materials Science\",\n",
    "    \"Climate change\": \"Environmental Science\",\n",
    "    \"Clay\": \"Materials Science\",\n",
    "    \"Circular economy\": \"Economics\",\n",
    "    \"Cement\": \"Materials Science\",\n",
    "    \"Carbon footprint\": \"Environmental Science\",\n",
    "    \"Carbon\": \"Materials Science\",\n",
    "    \"Built environment\": \"Civil Engineering\",\n",
    "    \"Building material\": \"Materials Science\",\n",
    "    \"Building information modeling\": \"Civil Engineering\",\n",
    "    \"Biodiversity\": \"Environmental Science\",\n",
    "    \"Bibliometrics\": \"Science and Research\",\n",
    "    \"Architecture\": \"Civil Engineering\",\n",
    "    \"Air pollution\": \"Environmental Science\",\n",
    "    \"3D printing\": \"General Technology\"\n",
    "}\n",
    "\n",
    "# Grouping by values and sorting each group by keys\n",
    "grouped = defaultdict(list)\n",
    "for key, value in sorted(data.items(), key=lambda item: item[0]):  # Sort by key (term)\n",
    "    grouped[value].append(key)\n",
    "\n",
    "# Optionally, sort categories themselves (values)\n",
    "sorted_grouped = {category: sorted(keys) for category, keys in sorted(grouped.items())}\n",
    "\n",
    "# Printing the result\n",
    "print(json.dumps(sorted_grouped, indent=4))\n"
   ]
  },
  {
   "cell_type": "code",
   "execution_count": null,
   "id": "6847485c-9ff2-4f68-a05e-cd7460fc2a74",
   "metadata": {},
   "outputs": [],
   "source": [
    "# Export to Excel\n",
    "df.to_excel('concept_matrix2.xlsx', engine='openpyxl')"
   ]
  },
  {
   "cell_type": "code",
   "execution_count": null,
   "id": "159e3172-0c5f-4b5d-a91b-912232378cd1",
   "metadata": {},
   "outputs": [],
   "source": [
    "# Extract columns related to Sustainability and Circular economy\n",
    "sustainability_correlations = result.loc[:, [\"Unnamed: 1\", \"Sustainability\"]]\n",
    "circular_economy_correlations = result.loc[:, [\"Unnamed: 1\", \"Circular economy\"]]\n"
   ]
  },
  {
   "cell_type": "code",
   "execution_count": null,
   "id": "008fb8bc-28ae-420c-ba04-ff20dbcfac85",
   "metadata": {},
   "outputs": [],
   "source": [
    "\n",
    "\n",
    "# Rename columns for easier comparison\n",
    "sustainability_correlations.columns = [\"Concept\", \"Sustainability\"]\n",
    "circular_economy_correlations.columns = [\"Concept\", \"Circular economy\"]\n",
    "\n",
    "# Merge the two dataframes on the Concept column\n",
    "merged_df = pd.merge(sustainability_correlations, circular_economy_correlations, on=\"Concept\")\n",
    "\n",
    "# Calculate the absolute differences in correlation values\n",
    "merged_df[\"Difference\"] = abs(merged_df[\"Sustainability\"] - merged_df[\"Circular economy\"])\n",
    "\n",
    "# Sort by the absolute difference to find the most divergent concepts\n",
    "divergent_concepts = merged_df.sort_values(by=\"Difference\", ascending=False).head(10)\n",
    "\n",
    "import ace_tools as tools; tools.display_dataframe_to_user(name=\"Divergent Concepts between Sustainability and Circular Economy\", dataframe=divergent_concepts)\n",
    "\n",
    "divergent_concepts\n"
   ]
  }
 ],
 "metadata": {
  "kernelspec": {
   "display_name": "Python 3 (ipykernel)",
   "language": "python",
   "name": "python3"
  },
  "language_info": {
   "codemirror_mode": {
    "name": "ipython",
    "version": 3
   },
   "file_extension": ".py",
   "mimetype": "text/x-python",
   "name": "python",
   "nbconvert_exporter": "python",
   "pygments_lexer": "ipython3",
   "version": "3.10.0"
  }
 },
 "nbformat": 4,
 "nbformat_minor": 5
}
